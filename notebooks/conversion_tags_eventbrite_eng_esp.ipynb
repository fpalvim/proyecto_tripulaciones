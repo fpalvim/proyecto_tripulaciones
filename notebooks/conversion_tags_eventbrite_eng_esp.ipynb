{
 "cells": [
  {
   "cell_type": "code",
   "execution_count": 1,
   "id": "ed76e5ca",
   "metadata": {},
   "outputs": [],
   "source": [
    "import pandas as pd"
   ]
  },
  {
   "cell_type": "code",
   "execution_count": 2,
   "id": "54caeae7",
   "metadata": {},
   "outputs": [],
   "source": [
    "data = pd.read_csv('../data/raw/combined_df.csv')"
   ]
  },
  {
   "cell_type": "code",
   "execution_count": 3,
   "id": "23b5b4aa",
   "metadata": {},
   "outputs": [],
   "source": [
    "df = data.copy()"
   ]
  },
  {
   "cell_type": "code",
   "execution_count": 4,
   "id": "0239199b",
   "metadata": {},
   "outputs": [
    {
     "name": "stdout",
     "output_type": "stream",
     "text": [
      "<class 'pandas.core.frame.DataFrame'>\n",
      "RangeIndex: 315 entries, 0 to 314\n",
      "Data columns (total 18 columns):\n",
      " #   Column           Non-Null Count  Dtype  \n",
      "---  ------           --------------  -----  \n",
      " 0   name             315 non-null    object \n",
      " 1   url              315 non-null    object \n",
      " 2   start_time       252 non-null    object \n",
      " 3   start_date       315 non-null    object \n",
      " 4   end_time         20 non-null     object \n",
      " 5   end_date         315 non-null    object \n",
      " 6   duration         20 non-null     object \n",
      " 7   venue_name       298 non-null    object \n",
      " 8   venue_address    294 non-null    object \n",
      " 9   longitude        298 non-null    float64\n",
      " 10  latitude         298 non-null    float64\n",
      " 11  summary          224 non-null    object \n",
      " 12  is_online_event  20 non-null     object \n",
      " 13  tickets_url      315 non-null    object \n",
      " 14  tags             315 non-null    object \n",
      " 15  event_id         315 non-null    int64  \n",
      " 16  data_source      315 non-null    object \n",
      " 17  image            0 non-null      float64\n",
      "dtypes: float64(3), int64(1), object(14)\n",
      "memory usage: 44.4+ KB\n"
     ]
    }
   ],
   "source": [
    "df.info()"
   ]
  },
  {
   "cell_type": "code",
   "execution_count": 5,
   "id": "5acdb151",
   "metadata": {},
   "outputs": [],
   "source": [
    "pd.set_option('display.max_colwidth', 500)"
   ]
  },
  {
   "cell_type": "code",
   "execution_count": 6,
   "id": "f916c771",
   "metadata": {},
   "outputs": [],
   "source": [
    "import pandas as pd\n",
    "import ast\n",
    "\n",
    "# Step 1: Make sure 'tags' are proper lists (not strings)\n",
    "def safe_parse_list(tag_str):\n",
    "    try:\n",
    "        return ast.literal_eval(tag_str) if isinstance(tag_str, str) else tag_str\n",
    "    except:\n",
    "        return []\n",
    "\n",
    "df['tags'] = df['tags'].apply(safe_parse_list)\n",
    "\n",
    "# Step 2: Filter rows where data_source == 'eventbrite'\n",
    "eventbrite_df = df[df['data_source'] == 'eventbrite']\n",
    "\n",
    "# Step 3: Flatten the list of tags across all rows\n",
    "all_tags = []\n",
    "for tag_list in eventbrite_df['tags']:\n",
    "    all_tags.extend([tag.strip() for tag in tag_list])  # strip to clean whitespace\n",
    "\n",
    "# Step 4: Get unique tags\n",
    "unique_tags = sorted(set(all_tags))"
   ]
  },
  {
   "cell_type": "code",
   "execution_count": 7,
   "id": "cbf1d41a",
   "metadata": {},
   "outputs": [],
   "source": [
    "english_tags = [\n",
    "    'Audio', 'Baby', 'Babygroup', 'Bookshop', 'Children', 'Children & Youth',\n",
    "    'Childrenandfamilies', 'Childrens', 'Class, Training, or Workshop', 'Community',\n",
    "    'Concert or Performance', 'Conference', 'Event', 'Family', 'Family & Education',\n",
    "    'Familyworkshop', 'Gathering', 'Humour', 'Kids', 'Lettering', 'Parenting',\n",
    "    'Podcast', 'Radio', 'Standup', 'Standupcomedy', 'Storyteller', 'Storytelling',\n",
    "    'Workshop', 'kids_events'\n",
    "]\n",
    "\n",
    "spanish_tags = [\n",
    "    'Audio', 'Bebé', 'Grupo de bebés', 'Librería', 'Niños', 'Niños y jóvenes',\n",
    "    'Niños y familias', 'Niños', 'Clase, formación o taller', 'Comunidad',\n",
    "    'Concierto o actuación', 'Conferencia', 'Evento', 'Familia', 'Familia y educación',\n",
    "    'Taller familiar', 'Reunión', 'Humor', 'Niños', 'Lettering', 'Crianza',\n",
    "    'Podcast', 'Radio', 'Monólogo', 'Comedia en Barcelona', 'Narrador',\n",
    "    'Narración de cuentos', 'Taller', 'eventos_infantiles'\n",
    "]\n",
    "\n",
    "translation_dict = dict(zip(english_tags, spanish_tags))\n",
    "\n",
    "import ast\n",
    "\n",
    "# Ensure 'tags' is a list\n",
    "df['tags'] = df['tags'].apply(lambda x: ast.literal_eval(x) if isinstance(x, str) else x)\n",
    "\n",
    "# Function to translate individual tag lists\n",
    "def translate_tag_list(tag_list):\n",
    "    return [translation_dict.get(tag.strip(), tag.strip()) for tag in tag_list]\n",
    "\n",
    "# Apply only to rows where data_source == 'eventbrite'\n",
    "df.loc[df['data_source'] == 'eventbrite', 'tags'] = (\n",
    "    df.loc[df['data_source'] == 'eventbrite', 'tags'].apply(translate_tag_list)\n",
    ")\n"
   ]
  },
  {
   "cell_type": "code",
   "execution_count": 8,
   "id": "614eeb9d",
   "metadata": {},
   "outputs": [
    {
     "data": {
      "text/plain": [
       "(315, 18)"
      ]
     },
     "execution_count": 8,
     "metadata": {},
     "output_type": "execute_result"
    }
   ],
   "source": [
    "df.shape"
   ]
  },
  {
   "cell_type": "code",
   "execution_count": null,
   "id": "0f5c8045",
   "metadata": {},
   "outputs": [],
   "source": [
    "# df.to_csv('../data/raw/combined_df_with_tags_spanish.csv')"
   ]
  },
  {
   "cell_type": "code",
   "execution_count": 15,
   "id": "195e7e25",
   "metadata": {},
   "outputs": [],
   "source": [
    "# Step 1: Ensure 'tags' is properly formatted as a list (in case it's a stringified list)\n",
    "df['tags'] = df['tags'].apply(lambda x: ast.literal_eval(x) if isinstance(x, str) else x)\n",
    "\n",
    "# Step 2: Flatten all tags from all rows\n",
    "all_tags = []\n",
    "for tag_list in df['tags']:\n",
    "    all_tags.extend([tag.strip() for tag in tag_list])  # Clean whitespace and extend the list\n",
    "\n",
    "# Step 3: Get unique tags\n",
    "unique_tags = sorted(set(all_tags))\n",
    "unique_tags_df = pd.DataFrame(unique_tags)\n",
    "# Step 4: Print the result or return the unique tags"
   ]
  },
  {
   "cell_type": "code",
   "execution_count": 16,
   "id": "71994f75",
   "metadata": {},
   "outputs": [
    {
     "data": {
      "text/plain": [
       "['Actividades',\n",
       " 'Alicante',\n",
       " 'Arte',\n",
       " 'Audio',\n",
       " 'Barcelona',\n",
       " 'Bebé',\n",
       " 'Clase, formación o taller',\n",
       " 'Comedia en Barcelona',\n",
       " 'Comunicación',\n",
       " 'Comunidad',\n",
       " 'Concierto o actuación',\n",
       " 'Conferencia',\n",
       " 'Conferencias',\n",
       " 'Consciência',\n",
       " 'Crianza',\n",
       " 'Cuentacuentos',\n",
       " 'Cuentos',\n",
       " 'Curso',\n",
       " 'Educacion',\n",
       " 'Estimulacion',\n",
       " 'Evento',\n",
       " 'Familia',\n",
       " 'Familia y educación',\n",
       " 'Familiar',\n",
       " 'Familias',\n",
       " 'Floral',\n",
       " 'Gratis',\n",
       " 'Grupo de bebés',\n",
       " 'Humor',\n",
       " 'Jovenes,Niños',\n",
       " 'Jovenes,Niños,Familias',\n",
       " 'Juego',\n",
       " 'Juegos',\n",
       " 'Lectura',\n",
       " 'Lettering',\n",
       " 'Libreria',\n",
       " 'Librería',\n",
       " 'Locutores',\n",
       " 'Madrid',\n",
       " 'Mama',\n",
       " 'Maternidad',\n",
       " 'Microfono',\n",
       " 'Montessori',\n",
       " 'Monólogo',\n",
       " 'Movimiento',\n",
       " 'Narración de cuentos',\n",
       " 'Narrador',\n",
       " 'Niños',\n",
       " 'Niños y familias',\n",
       " 'Niños y jóvenes',\n",
       " 'Niños,Familias',\n",
       " 'Ocio',\n",
       " 'Octubre',\n",
       " 'Podcast',\n",
       " 'Radio',\n",
       " 'Reunión',\n",
       " 'Silvestre',\n",
       " 'Taller',\n",
       " 'Taller familiar',\n",
       " 'Teatro',\n",
       " 'abecedario',\n",
       " 'affaires_de_famille',\n",
       " 'barcelona_comedy',\n",
       " 'certe_mathurin',\n",
       " 'colmena',\n",
       " 'dibujamos',\n",
       " 'eventos_infantiles',\n",
       " 'investigactiva',\n",
       " 'mathurin',\n",
       " 'me_mimo_gestando',\n",
       " 'un_nido_consciente']"
      ]
     },
     "execution_count": 16,
     "metadata": {},
     "output_type": "execute_result"
    }
   ],
   "source": [
    "unique_tags"
   ]
  }
 ],
 "metadata": {
  "kernelspec": {
   "display_name": ".venv",
   "language": "python",
   "name": "python3"
  },
  "language_info": {
   "codemirror_mode": {
    "name": "ipython",
    "version": 3
   },
   "file_extension": ".py",
   "mimetype": "text/x-python",
   "name": "python",
   "nbconvert_exporter": "python",
   "pygments_lexer": "ipython3",
   "version": "3.11.9"
  }
 },
 "nbformat": 4,
 "nbformat_minor": 5
}
